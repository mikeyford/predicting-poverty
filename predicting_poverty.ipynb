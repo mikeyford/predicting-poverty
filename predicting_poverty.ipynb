{
 "cells": [
  {
   "cell_type": "code",
   "execution_count": 23,
   "metadata": {
    "collapsed": true
   },
   "outputs": [],
   "source": [
    "import pandas as pd\n",
    "from sklearn.ensemble import RandomForestClassifier\n",
    "from sklearn.model_selection import GridSearchCV"
   ]
  },
  {
   "cell_type": "code",
   "execution_count": 24,
   "metadata": {
    "collapsed": true
   },
   "outputs": [],
   "source": [
    "countries = ['A', 'B', 'C']"
   ]
  },
  {
   "cell_type": "code",
   "execution_count": 29,
   "metadata": {},
   "outputs": [],
   "source": [
    "parameters = {'n_estimators':[5, 10, 100, 500, 1000],\n",
    "              'min_samples_leaf':[1, 2, 5],\n",
    "              'max_features':['auto', 5, 10, 25],\n",
    "              'min_samples_split':[2, 4, 8],\n",
    "              'max_depth':[1, 10, 100, None]}"
   ]
  },
  {
   "cell_type": "code",
   "execution_count": 30,
   "metadata": {},
   "outputs": [
    {
     "name": "stdout",
     "output_type": "stream",
     "text": [
      "Fitting 5 folds for each of 720 candidates, totalling 3600 fits\n"
     ]
    },
    {
     "name": "stderr",
     "output_type": "stream",
     "text": [
      "[Parallel(n_jobs=-1)]: Done  34 tasks      | elapsed:    4.3s\n",
      "[Parallel(n_jobs=-1)]: Done 184 tasks      | elapsed:   31.5s\n",
      "[Parallel(n_jobs=-1)]: Done 434 tasks      | elapsed:  1.1min\n",
      "[Parallel(n_jobs=-1)]: Done 784 tasks      | elapsed:  2.0min\n",
      "[Parallel(n_jobs=-1)]: Done 1234 tasks      | elapsed:  7.0min\n",
      "[Parallel(n_jobs=-1)]: Done 1784 tasks      | elapsed: 12.8min\n",
      "[Parallel(n_jobs=-1)]: Done 2434 tasks      | elapsed: 25.1min\n",
      "[Parallel(n_jobs=-1)]: Done 3184 tasks      | elapsed: 41.2min\n",
      "[Parallel(n_jobs=-1)]: Done 3600 out of 3600 | elapsed: 50.3min finished\n"
     ]
    },
    {
     "name": "stdout",
     "output_type": "stream",
     "text": [
      "Country A done\n",
      "{'max_depth': None, 'max_features': 'auto', 'min_samples_leaf': 1, 'min_samples_split': 2, 'n_estimators': 1000}\n",
      "Fitting 5 folds for each of 720 candidates, totalling 3600 fits\n"
     ]
    },
    {
     "name": "stderr",
     "output_type": "stream",
     "text": [
      "[Parallel(n_jobs=-1)]: Done  52 tasks      | elapsed:    5.3s\n",
      "[Parallel(n_jobs=-1)]: Done 209 tasks      | elapsed:   26.7s\n",
      "[Parallel(n_jobs=-1)]: Done 459 tasks      | elapsed:   57.7s\n",
      "[Parallel(n_jobs=-1)]: Done 809 tasks      | elapsed:  1.7min\n",
      "[Parallel(n_jobs=-1)]: Done 1259 tasks      | elapsed:  4.0min\n",
      "[Parallel(n_jobs=-1)]: Done 1809 tasks      | elapsed:  6.5min\n",
      "[Parallel(n_jobs=-1)]: Done 2459 tasks      | elapsed: 10.3min\n",
      "[Parallel(n_jobs=-1)]: Done 3209 tasks      | elapsed: 15.2min\n",
      "[Parallel(n_jobs=-1)]: Done 3600 out of 3600 | elapsed: 17.6min finished\n"
     ]
    },
    {
     "name": "stdout",
     "output_type": "stream",
     "text": [
      "Country B done\n",
      "{'max_depth': 100, 'max_features': 'auto', 'min_samples_leaf': 2, 'min_samples_split': 2, 'n_estimators': 500}\n",
      "Fitting 5 folds for each of 720 candidates, totalling 3600 fits\n"
     ]
    },
    {
     "name": "stderr",
     "output_type": "stream",
     "text": [
      "[Parallel(n_jobs=-1)]: Done  52 tasks      | elapsed:    6.2s\n",
      "[Parallel(n_jobs=-1)]: Done 208 tasks      | elapsed:   30.8s\n",
      "[Parallel(n_jobs=-1)]: Done 458 tasks      | elapsed:  1.1min\n",
      "[Parallel(n_jobs=-1)]: Done 808 tasks      | elapsed:  1.9min\n",
      "[Parallel(n_jobs=-1)]: Done 1258 tasks      | elapsed:  5.5min\n",
      "[Parallel(n_jobs=-1)]: Done 1808 tasks      | elapsed: 10.0min\n",
      "[Parallel(n_jobs=-1)]: Done 2458 tasks      | elapsed: 16.4min\n",
      "[Parallel(n_jobs=-1)]: Done 3208 tasks      | elapsed: 24.6min\n",
      "[Parallel(n_jobs=-1)]: Done 3600 out of 3600 | elapsed: 29.3min finished\n"
     ]
    },
    {
     "name": "stdout",
     "output_type": "stream",
     "text": [
      "Country C done\n",
      "{'max_depth': 100, 'max_features': 'auto', 'min_samples_leaf': 1, 'min_samples_split': 8, 'n_estimators': 10}\n"
     ]
    }
   ],
   "source": [
    "results = pd.DataFrame()\n",
    "\n",
    "for letter in countries:\n",
    "    df_train = pd.read_csv(\"data/\"+letter+\"_hhold_train.csv\")\n",
    "    df_test = pd.read_csv(\"data/\"+letter+\"_hhold_test.csv\")\n",
    "    df_train, df_test = df_train.set_index('id'), df_test.set_index('id')\n",
    "    country_train, country_test = df_train.pop('country'), df_test.pop('country')\n",
    "    y_train = df_train.pop('poor')\n",
    "    \n",
    "    X_train = pd.get_dummies(df_train)\n",
    "    X_test = pd.get_dummies(df_test)\n",
    "    \n",
    "    cols = X_test.columns.intersection(X_train.columns)\n",
    "    X_test = X_test[cols]\n",
    "    X_train = X_train[cols]\n",
    "    \n",
    "    X_train = X_train.fillna(value=0)\n",
    "    X_test = X_test.fillna(value=0)\n",
    "       \n",
    "    model = RandomForestClassifier()\n",
    "    clf = GridSearchCV(model, parameters, scoring='neg_log_loss',n_jobs=-1, cv=5, verbose=1)\n",
    "    clf.fit(X_train, y_train)\n",
    "        \n",
    "    y_hat = clf.predict_proba(X_test)\n",
    "    \n",
    "    X_test['poor'] = y_hat[:,1] \n",
    "    \n",
    "    predictions = pd.DataFrame()\n",
    "    predictions['country'] = country_test\n",
    "    predictions['poor'] = X_test['poor']\n",
    "    \n",
    "    results = results.append(predictions)\n",
    "\n",
    "    print(\"Country \"+letter+\" done\")\n",
    "    print(clf.best_params_)"
   ]
  },
  {
   "cell_type": "code",
   "execution_count": 31,
   "metadata": {
    "collapsed": true
   },
   "outputs": [],
   "source": [
    "results.to_csv(\"submission_cv_optimised_RF.csv\")"
   ]
  },
  {
   "cell_type": "code",
   "execution_count": null,
   "metadata": {
    "collapsed": true
   },
   "outputs": [],
   "source": []
  }
 ],
 "metadata": {
  "kernelspec": {
   "display_name": "Python 3",
   "language": "python",
   "name": "python3"
  },
  "language_info": {
   "codemirror_mode": {
    "name": "ipython",
    "version": 3
   },
   "file_extension": ".py",
   "mimetype": "text/x-python",
   "name": "python",
   "nbconvert_exporter": "python",
   "pygments_lexer": "ipython3",
   "version": "3.6.2"
  }
 },
 "nbformat": 4,
 "nbformat_minor": 2
}
